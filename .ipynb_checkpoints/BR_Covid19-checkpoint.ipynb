{
 "cells": [
  {
   "cell_type": "markdown",
   "metadata": {},
   "source": [
    "# Covid 19 no Brasil \n",
    "\n",
    "Covid 19, também conhecida como Coronavírus, é um vírus que causa infecção respiratória e foi descoberto na China em 31/12/2019. Esta doença está infectando milhares de pessoas e causando milhares de mortes ao redor do mundo.\n",
    "\n",
    "\n",
    "# Objetivo\n",
    "\n",
    "Analisar os dados referentes ao coronavírus no Brasil e verificar Estados e cidades com maiores casos.\n",
    "\n",
    "\n",
    "\n",
    "# Base de Dados\n",
    "\n",
    "Os dados usados nessa análise são referentes aos casos até o dia 09/04/2020 no Brasil e foram obtidos a partir do site https://brasil.io/dataset/covid19/caso?search=&date=&state=&city=&place_type=&is_last=&city_ibge_code=&order_for_place=\n",
    "\n",
    "\n",
    "\n",
    "\n"
   ]
  },
  {
   "cell_type": "markdown",
   "metadata": {},
   "source": [
    "Importando as Bibliotecas Necessárias"
   ]
  },
  {
   "cell_type": "code",
   "execution_count": 1,
   "metadata": {},
   "outputs": [],
   "source": [
    "import pandas as pd\n",
    "import numpy as np\n",
    "import matplotlib.pyplot as plt\n",
    "import seaborn as sns"
   ]
  },
  {
   "cell_type": "markdown",
   "metadata": {},
   "source": [
    "Lendo o arquivo"
   ]
  },
  {
   "cell_type": "code",
   "execution_count": 2,
   "metadata": {},
   "outputs": [],
   "source": [
    "dat = pd.read_csv('covid19-brasil.csv')"
   ]
  },
  {
   "cell_type": "markdown",
   "metadata": {},
   "source": [
    "Visualizando os dados"
   ]
  },
  {
   "cell_type": "code",
   "execution_count": 3,
   "metadata": {},
   "outputs": [
    {
     "data": {
      "text/html": [
       "<div>\n",
       "<style scoped>\n",
       "    .dataframe tbody tr th:only-of-type {\n",
       "        vertical-align: middle;\n",
       "    }\n",
       "\n",
       "    .dataframe tbody tr th {\n",
       "        vertical-align: top;\n",
       "    }\n",
       "\n",
       "    .dataframe thead th {\n",
       "        text-align: right;\n",
       "    }\n",
       "</style>\n",
       "<table border=\"1\" class=\"dataframe\">\n",
       "  <thead>\n",
       "    <tr style=\"text-align: right;\">\n",
       "      <th></th>\n",
       "      <th>date</th>\n",
       "      <th>state</th>\n",
       "      <th>city</th>\n",
       "      <th>place_type</th>\n",
       "      <th>confirmed</th>\n",
       "      <th>deaths</th>\n",
       "      <th>is_last</th>\n",
       "      <th>estimated_population_2019</th>\n",
       "      <th>city_ibge_code</th>\n",
       "      <th>confirmed_per_100k_inhabitants</th>\n",
       "      <th>death_rate</th>\n",
       "    </tr>\n",
       "  </thead>\n",
       "  <tbody>\n",
       "    <tr>\n",
       "      <th>0</th>\n",
       "      <td>2020-04-09</td>\n",
       "      <td>AC</td>\n",
       "      <td>Acrelândia</td>\n",
       "      <td>city</td>\n",
       "      <td>9</td>\n",
       "      <td>0.0</td>\n",
       "      <td>True</td>\n",
       "      <td>15256.0</td>\n",
       "      <td>1200013.0</td>\n",
       "      <td>58.99318</td>\n",
       "      <td>NaN</td>\n",
       "    </tr>\n",
       "    <tr>\n",
       "      <th>1</th>\n",
       "      <td>2020-04-09</td>\n",
       "      <td>AC</td>\n",
       "      <td>Bujari</td>\n",
       "      <td>city</td>\n",
       "      <td>1</td>\n",
       "      <td>0.0</td>\n",
       "      <td>True</td>\n",
       "      <td>10266.0</td>\n",
       "      <td>1200138.0</td>\n",
       "      <td>9.74089</td>\n",
       "      <td>NaN</td>\n",
       "    </tr>\n",
       "    <tr>\n",
       "      <th>2</th>\n",
       "      <td>2020-04-09</td>\n",
       "      <td>AC</td>\n",
       "      <td>Plácido de Castro</td>\n",
       "      <td>city</td>\n",
       "      <td>3</td>\n",
       "      <td>0.0</td>\n",
       "      <td>True</td>\n",
       "      <td>19761.0</td>\n",
       "      <td>1200385.0</td>\n",
       "      <td>15.18142</td>\n",
       "      <td>NaN</td>\n",
       "    </tr>\n",
       "    <tr>\n",
       "      <th>3</th>\n",
       "      <td>2020-04-09</td>\n",
       "      <td>AC</td>\n",
       "      <td>Porto Acre</td>\n",
       "      <td>city</td>\n",
       "      <td>1</td>\n",
       "      <td>0.0</td>\n",
       "      <td>True</td>\n",
       "      <td>18504.0</td>\n",
       "      <td>1200807.0</td>\n",
       "      <td>5.40424</td>\n",
       "      <td>NaN</td>\n",
       "    </tr>\n",
       "    <tr>\n",
       "      <th>4</th>\n",
       "      <td>2020-04-09</td>\n",
       "      <td>AC</td>\n",
       "      <td>Rio Branco</td>\n",
       "      <td>city</td>\n",
       "      <td>48</td>\n",
       "      <td>2.0</td>\n",
       "      <td>True</td>\n",
       "      <td>407319.0</td>\n",
       "      <td>1200401.0</td>\n",
       "      <td>11.78438</td>\n",
       "      <td>0.0417</td>\n",
       "    </tr>\n",
       "  </tbody>\n",
       "</table>\n",
       "</div>"
      ],
      "text/plain": [
       "         date state               city place_type  confirmed  deaths  is_last  \\\n",
       "0  2020-04-09    AC         Acrelândia       city          9     0.0     True   \n",
       "1  2020-04-09    AC             Bujari       city          1     0.0     True   \n",
       "2  2020-04-09    AC  Plácido de Castro       city          3     0.0     True   \n",
       "3  2020-04-09    AC         Porto Acre       city          1     0.0     True   \n",
       "4  2020-04-09    AC         Rio Branco       city         48     2.0     True   \n",
       "\n",
       "   estimated_population_2019  city_ibge_code  confirmed_per_100k_inhabitants  \\\n",
       "0                    15256.0       1200013.0                        58.99318   \n",
       "1                    10266.0       1200138.0                         9.74089   \n",
       "2                    19761.0       1200385.0                        15.18142   \n",
       "3                    18504.0       1200807.0                         5.40424   \n",
       "4                   407319.0       1200401.0                        11.78438   \n",
       "\n",
       "   death_rate  \n",
       "0         NaN  \n",
       "1         NaN  \n",
       "2         NaN  \n",
       "3         NaN  \n",
       "4      0.0417  "
      ]
     },
     "execution_count": 3,
     "metadata": {},
     "output_type": "execute_result"
    }
   ],
   "source": [
    "dat.head() #lendo as primeiras 5 linhas da base de dados"
   ]
  },
  {
   "cell_type": "code",
   "execution_count": 4,
   "metadata": {},
   "outputs": [
    {
     "data": {
      "text/html": [
       "<div>\n",
       "<style scoped>\n",
       "    .dataframe tbody tr th:only-of-type {\n",
       "        vertical-align: middle;\n",
       "    }\n",
       "\n",
       "    .dataframe tbody tr th {\n",
       "        vertical-align: top;\n",
       "    }\n",
       "\n",
       "    .dataframe thead th {\n",
       "        text-align: right;\n",
       "    }\n",
       "</style>\n",
       "<table border=\"1\" class=\"dataframe\">\n",
       "  <thead>\n",
       "    <tr style=\"text-align: right;\">\n",
       "      <th></th>\n",
       "      <th>date</th>\n",
       "      <th>state</th>\n",
       "      <th>city</th>\n",
       "      <th>place_type</th>\n",
       "      <th>confirmed</th>\n",
       "      <th>deaths</th>\n",
       "      <th>is_last</th>\n",
       "      <th>estimated_population_2019</th>\n",
       "      <th>city_ibge_code</th>\n",
       "      <th>confirmed_per_100k_inhabitants</th>\n",
       "      <th>death_rate</th>\n",
       "    </tr>\n",
       "  </thead>\n",
       "  <tbody>\n",
       "    <tr>\n",
       "      <th>9386</th>\n",
       "      <td>2020-02-27</td>\n",
       "      <td>SP</td>\n",
       "      <td>São Paulo</td>\n",
       "      <td>city</td>\n",
       "      <td>1</td>\n",
       "      <td>NaN</td>\n",
       "      <td>False</td>\n",
       "      <td>12252023.0</td>\n",
       "      <td>3550308.0</td>\n",
       "      <td>0.00816</td>\n",
       "      <td>NaN</td>\n",
       "    </tr>\n",
       "    <tr>\n",
       "      <th>9387</th>\n",
       "      <td>2020-02-27</td>\n",
       "      <td>SP</td>\n",
       "      <td>NaN</td>\n",
       "      <td>state</td>\n",
       "      <td>1</td>\n",
       "      <td>0.0</td>\n",
       "      <td>False</td>\n",
       "      <td>45919049.0</td>\n",
       "      <td>35.0</td>\n",
       "      <td>0.00218</td>\n",
       "      <td>NaN</td>\n",
       "    </tr>\n",
       "    <tr>\n",
       "      <th>9388</th>\n",
       "      <td>2020-02-26</td>\n",
       "      <td>SP</td>\n",
       "      <td>NaN</td>\n",
       "      <td>state</td>\n",
       "      <td>1</td>\n",
       "      <td>0.0</td>\n",
       "      <td>False</td>\n",
       "      <td>45919049.0</td>\n",
       "      <td>35.0</td>\n",
       "      <td>0.00218</td>\n",
       "      <td>NaN</td>\n",
       "    </tr>\n",
       "    <tr>\n",
       "      <th>9389</th>\n",
       "      <td>2020-02-25</td>\n",
       "      <td>SP</td>\n",
       "      <td>São Paulo</td>\n",
       "      <td>city</td>\n",
       "      <td>1</td>\n",
       "      <td>NaN</td>\n",
       "      <td>False</td>\n",
       "      <td>12252023.0</td>\n",
       "      <td>3550308.0</td>\n",
       "      <td>0.00816</td>\n",
       "      <td>NaN</td>\n",
       "    </tr>\n",
       "    <tr>\n",
       "      <th>9390</th>\n",
       "      <td>2020-02-25</td>\n",
       "      <td>SP</td>\n",
       "      <td>NaN</td>\n",
       "      <td>state</td>\n",
       "      <td>1</td>\n",
       "      <td>0.0</td>\n",
       "      <td>False</td>\n",
       "      <td>45919049.0</td>\n",
       "      <td>35.0</td>\n",
       "      <td>0.00218</td>\n",
       "      <td>NaN</td>\n",
       "    </tr>\n",
       "  </tbody>\n",
       "</table>\n",
       "</div>"
      ],
      "text/plain": [
       "            date state       city place_type  confirmed  deaths  is_last  \\\n",
       "9386  2020-02-27    SP  São Paulo       city          1     NaN    False   \n",
       "9387  2020-02-27    SP        NaN      state          1     0.0    False   \n",
       "9388  2020-02-26    SP        NaN      state          1     0.0    False   \n",
       "9389  2020-02-25    SP  São Paulo       city          1     NaN    False   \n",
       "9390  2020-02-25    SP        NaN      state          1     0.0    False   \n",
       "\n",
       "      estimated_population_2019  city_ibge_code  \\\n",
       "9386                 12252023.0       3550308.0   \n",
       "9387                 45919049.0            35.0   \n",
       "9388                 45919049.0            35.0   \n",
       "9389                 12252023.0       3550308.0   \n",
       "9390                 45919049.0            35.0   \n",
       "\n",
       "      confirmed_per_100k_inhabitants  death_rate  \n",
       "9386                         0.00816         NaN  \n",
       "9387                         0.00218         NaN  \n",
       "9388                         0.00218         NaN  \n",
       "9389                         0.00816         NaN  \n",
       "9390                         0.00218         NaN  "
      ]
     },
     "execution_count": 4,
     "metadata": {},
     "output_type": "execute_result"
    }
   ],
   "source": [
    "dat.tail() #lendo as últimas 5 linhas da base de dado"
   ]
  },
  {
   "cell_type": "markdown",
   "metadata": {},
   "source": [
    "Verificando se há valores duplicados"
   ]
  },
  {
   "cell_type": "code",
   "execution_count": 5,
   "metadata": {},
   "outputs": [
    {
     "data": {
      "text/plain": [
       "0       False\n",
       "1       False\n",
       "2       False\n",
       "3       False\n",
       "4       False\n",
       "5       False\n",
       "6       False\n",
       "7       False\n",
       "8       False\n",
       "9       False\n",
       "10      False\n",
       "11      False\n",
       "12      False\n",
       "13      False\n",
       "14      False\n",
       "15      False\n",
       "16      False\n",
       "17      False\n",
       "18      False\n",
       "19      False\n",
       "20      False\n",
       "21      False\n",
       "22      False\n",
       "23      False\n",
       "24      False\n",
       "25      False\n",
       "26      False\n",
       "27      False\n",
       "28      False\n",
       "29      False\n",
       "        ...  \n",
       "9361    False\n",
       "9362    False\n",
       "9363    False\n",
       "9364    False\n",
       "9365    False\n",
       "9366    False\n",
       "9367    False\n",
       "9368    False\n",
       "9369    False\n",
       "9370    False\n",
       "9371    False\n",
       "9372    False\n",
       "9373    False\n",
       "9374    False\n",
       "9375    False\n",
       "9376    False\n",
       "9377    False\n",
       "9378    False\n",
       "9379    False\n",
       "9380    False\n",
       "9381    False\n",
       "9382    False\n",
       "9383    False\n",
       "9384    False\n",
       "9385    False\n",
       "9386    False\n",
       "9387    False\n",
       "9388    False\n",
       "9389    False\n",
       "9390    False\n",
       "Length: 9391, dtype: bool"
      ]
     },
     "execution_count": 5,
     "metadata": {},
     "output_type": "execute_result"
    }
   ],
   "source": [
    "dat.duplicated()"
   ]
  },
  {
   "cell_type": "markdown",
   "metadata": {},
   "source": [
    "Verificando informações da base de dados"
   ]
  },
  {
   "cell_type": "code",
   "execution_count": 6,
   "metadata": {},
   "outputs": [
    {
     "name": "stdout",
     "output_type": "stream",
     "text": [
      "<class 'pandas.core.frame.DataFrame'>\n",
      "RangeIndex: 9391 entries, 0 to 9390\n",
      "Data columns (total 11 columns):\n",
      "date                              9391 non-null object\n",
      "state                             9391 non-null object\n",
      "city                              8689 non-null object\n",
      "place_type                        9391 non-null object\n",
      "confirmed                         9391 non-null int64\n",
      "deaths                            9075 non-null float64\n",
      "is_last                           9391 non-null bool\n",
      "estimated_population_2019         9165 non-null float64\n",
      "city_ibge_code                    9165 non-null float64\n",
      "confirmed_per_100k_inhabitants    9069 non-null float64\n",
      "death_rate                        1499 non-null float64\n",
      "dtypes: bool(1), float64(5), int64(1), object(4)\n",
      "memory usage: 742.9+ KB\n"
     ]
    }
   ],
   "source": [
    "dat.info()"
   ]
  },
  {
   "cell_type": "markdown",
   "metadata": {},
   "source": [
    "Removendo os dados onde as cidades estão nulas, pois queremos saber de acordo com as cidades."
   ]
  },
  {
   "cell_type": "code",
   "execution_count": 7,
   "metadata": {},
   "outputs": [],
   "source": [
    "df = dat.dropna(inplace = True, subset=['city'])"
   ]
  },
  {
   "cell_type": "markdown",
   "metadata": {},
   "source": [
    "Removendo colunas que não serão utilizdas"
   ]
  },
  {
   "cell_type": "code",
   "execution_count": 8,
   "metadata": {},
   "outputs": [],
   "source": [
    "df=dat.drop(['is_last', 'estimated_population_2019', 'city_ibge_code', 'confirmed_per_100k_inhabitants', 'death_rate'], axis = 1)"
   ]
  },
  {
   "cell_type": "code",
   "execution_count": 9,
   "metadata": {},
   "outputs": [
    {
     "data": {
      "text/html": [
       "<div>\n",
       "<style scoped>\n",
       "    .dataframe tbody tr th:only-of-type {\n",
       "        vertical-align: middle;\n",
       "    }\n",
       "\n",
       "    .dataframe tbody tr th {\n",
       "        vertical-align: top;\n",
       "    }\n",
       "\n",
       "    .dataframe thead th {\n",
       "        text-align: right;\n",
       "    }\n",
       "</style>\n",
       "<table border=\"1\" class=\"dataframe\">\n",
       "  <thead>\n",
       "    <tr style=\"text-align: right;\">\n",
       "      <th></th>\n",
       "      <th>date</th>\n",
       "      <th>state</th>\n",
       "      <th>city</th>\n",
       "      <th>place_type</th>\n",
       "      <th>confirmed</th>\n",
       "      <th>deaths</th>\n",
       "    </tr>\n",
       "  </thead>\n",
       "  <tbody>\n",
       "    <tr>\n",
       "      <th>0</th>\n",
       "      <td>2020-04-09</td>\n",
       "      <td>AC</td>\n",
       "      <td>Acrelândia</td>\n",
       "      <td>city</td>\n",
       "      <td>9</td>\n",
       "      <td>0.0</td>\n",
       "    </tr>\n",
       "    <tr>\n",
       "      <th>1</th>\n",
       "      <td>2020-04-09</td>\n",
       "      <td>AC</td>\n",
       "      <td>Bujari</td>\n",
       "      <td>city</td>\n",
       "      <td>1</td>\n",
       "      <td>0.0</td>\n",
       "    </tr>\n",
       "    <tr>\n",
       "      <th>2</th>\n",
       "      <td>2020-04-09</td>\n",
       "      <td>AC</td>\n",
       "      <td>Plácido de Castro</td>\n",
       "      <td>city</td>\n",
       "      <td>3</td>\n",
       "      <td>0.0</td>\n",
       "    </tr>\n",
       "    <tr>\n",
       "      <th>3</th>\n",
       "      <td>2020-04-09</td>\n",
       "      <td>AC</td>\n",
       "      <td>Porto Acre</td>\n",
       "      <td>city</td>\n",
       "      <td>1</td>\n",
       "      <td>0.0</td>\n",
       "    </tr>\n",
       "    <tr>\n",
       "      <th>4</th>\n",
       "      <td>2020-04-09</td>\n",
       "      <td>AC</td>\n",
       "      <td>Rio Branco</td>\n",
       "      <td>city</td>\n",
       "      <td>48</td>\n",
       "      <td>2.0</td>\n",
       "    </tr>\n",
       "  </tbody>\n",
       "</table>\n",
       "</div>"
      ],
      "text/plain": [
       "         date state               city place_type  confirmed  deaths\n",
       "0  2020-04-09    AC         Acrelândia       city          9     0.0\n",
       "1  2020-04-09    AC             Bujari       city          1     0.0\n",
       "2  2020-04-09    AC  Plácido de Castro       city          3     0.0\n",
       "3  2020-04-09    AC         Porto Acre       city          1     0.0\n",
       "4  2020-04-09    AC         Rio Branco       city         48     2.0"
      ]
     },
     "execution_count": 9,
     "metadata": {},
     "output_type": "execute_result"
    }
   ],
   "source": [
    "df.head()"
   ]
  },
  {
   "cell_type": "markdown",
   "metadata": {},
   "source": [
    "Analisando os dados"
   ]
  },
  {
   "cell_type": "code",
   "execution_count": 10,
   "metadata": {},
   "outputs": [
    {
     "data": {
      "image/png": "[encoded data removed]",
      "text/plain": [
       "<Figure size 864x576 with 1 Axes>"
      ]
     },
     "metadata": {
      "needs_background": "light"
     },
     "output_type": "display_data"
    }
   ],
   "source": [
    "plt.figure(figsize=(12,8))\n",
    "df_hist = df.groupby(\"state\")['confirmed'].max().plot(kind='bar', color='orange')\n",
    "plt.xlabel('Estados')\n",
    "plt.ylabel('Casos Confirmados')\n",
    "plt.title('Casos Confirmados X Estado', size=20)\n",
    "plt.show()"
   ]
  },
  {
   "cell_type": "code",
   "execution_count": 11,
   "metadata": {},
   "outputs": [
    {
     "data": {
      "image/png": "[encoded data removed]",
      "text/plain": [
       "<Figure size 864x576 with 1 Axes>"
      ]
     },
     "metadata": {
      "needs_background": "light"
     },
     "output_type": "display_data"
    }
   ],
   "source": [
    "plt.figure(figsize=(12,8))\n",
    "df_hist2 = df.groupby(\"state\")['deaths'].max().plot(kind='bar', color='blue')\n",
    "plt.xlabel('Estados')\n",
    "plt.ylabel('Mortes Confirmados')\n",
    "plt.title('Mortes X Estado', size=20)\n",
    "plt.show()"
   ]
  },
  {
   "cell_type": "code",
   "execution_count": 12,
   "metadata": {},
   "outputs": [
    {
     "data": {
      "image/png": "[encoded data removed]",
      "text/plain": [
       "<Figure size 1296x432 with 1 Axes>"
      ]
     },
     "metadata": {
      "needs_background": "light"
     },
     "output_type": "display_data"
    }
   ],
   "source": [
    "#Evolução dos casos de acordo com os dias\n",
    "df_1 = df.groupby(['date']).sum()\n",
    "df_1.confirmed.plot(kind = 'line', color = 'r',label = 'Casos Confirmados',linewidth=2,alpha = 0.5,grid = True,linestyle = '-',figsize=(18,6))\n",
    "df_1.deaths.plot(kind = 'line', color = 'b',label = 'Mortes',linewidth=2,alpha = 0.5,grid = True,linestyle = '-',figsize=(18,6))\n",
    "plt.legend(loc='upper left')\n",
    "plt.xlabel('Dias')              \n",
    "plt.ylabel('Números de Casos')\n",
    "plt.title('Mortes e Casos por Dia', size=20)           \n",
    "plt.show()"
   ]
  },
  {
   "cell_type": "code",
   "execution_count": 13,
   "metadata": {},
   "outputs": [
    {
     "data": {
      "image/png": "[encoded data removed]",
      "text/plain": [
       "<Figure size 1296x576 with 1 Axes>"
      ]
     },
     "metadata": {
      "needs_background": "light"
     },
     "output_type": "display_data"
    }
   ],
   "source": [
    "plt.figure(figsize=(18,8))\n",
    "df_hist3 = df.groupby(['city']).max().sort_values(by=['confirmed'],ascending=False).head(10)\n",
    "plt.bar(df_hist3.index, df_hist3.confirmed, color = 'orange')\n",
    "plt.xlabel('Cidades')\n",
    "plt.ylabel('Casos Confirmados')\n",
    "plt.title('Casos X Cidades', size=20)\n",
    "plt.show()"
   ]
  },
  {
   "cell_type": "code",
   "execution_count": 14,
   "metadata": {
    "scrolled": false
   },
   "outputs": [
    {
     "data": {
      "image/png": "[encoded data removed]",
      "text/plain": [
       "<Figure size 1296x576 with 1 Axes>"
      ]
     },
     "metadata": {
      "needs_background": "light"
     },
     "output_type": "display_data"
    }
   ],
   "source": [
    "plt.figure(figsize=(18,8))\n",
    "df_hist4 = df.groupby(['city']).max().sort_values(by=['deaths'],ascending=False).head(10)\n",
    "plt.bar(df_hist4.index, df_hist4.deaths, color = 'lightblue')\n",
    "plt.xlabel('Cidades')\n",
    "plt.ylabel('Mortes Confirmados')\n",
    "plt.title('Mortes X Cidades', size=20)\n",
    "plt.show()"
   ]
  },
  {
   "cell_type": "markdown",
   "metadata": {},
   "source": [
    "# Conclusão\n",
    "\n",
    "Após a análise realizada conclui-se que os Estados com maiores casos confirmados e mortes são São Paulo e Rio de Janeiro, assim como as cidades com maiores casos e mortes são São Paulo e Rio de Janeiro. Por mais que alguns dias tenha ocorrido uma leve queda no número de casos confirmados, nota-se que mesmo assim os casos estão aumentando e as mortes também."
   ]
  }
 ],
 "metadata": {
  "kernelspec": {
   "display_name": "Python 3",
   "language": "python",
   "name": "python3"
  },
  "language_info": {
   "codemirror_mode": {
    "name": "ipython",
    "version": 3
   },
   "file_extension": ".py",
   "mimetype": "text/x-python",
   "name": "python",
   "nbconvert_exporter": "python",
   "pygments_lexer": "ipython3",
   "version": "3.7.3"
  }
 },
 "nbformat": 4,
 "nbformat_minor": 2
}
